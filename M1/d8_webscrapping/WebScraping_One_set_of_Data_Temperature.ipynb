{
 "cells": [
  {
   "cell_type": "code",
   "execution_count": 59,
   "metadata": {
    "cell_id": "00000-13aade8d-5870-4bc8-b334-e62de1c4982b",
    "deepnote_cell_type": "code",
    "execution_millis": 1755,
    "execution_start": 1607527440258,
    "output_cleared": false,
    "source_hash": "199c6ddb",
    "tags": []
   },
   "outputs": [
    {
     "name": "stdout",
     "output_type": "stream",
     "text": [
      "Requirement already satisfied: bs4 in /opt/venv/lib/python3.7/site-packages (0.0.1)\n",
      "Requirement already satisfied: beautifulsoup4 in /opt/venv/lib/python3.7/site-packages (from bs4) (4.9.3)\n",
      "Requirement already satisfied: soupsieve>1.2; python_version >= \"3.0\" in /opt/venv/lib/python3.7/site-packages (from beautifulsoup4->bs4) (2.0.1)\n",
      "\u001b[33mWARNING: You are using pip version 20.2.4; however, version 20.3.1 is available.\n",
      "You should consider upgrading via the '/opt/venv/bin/python -m pip install --upgrade pip' command.\u001b[0m\n",
      "Wed\n",
      "09\n",
      "High temperature in Celsius: 16\n",
      "Low temperature in Celsius: 5\n",
      "Partly cloudy. High 61F. Winds N at 5 to 10 mph.\n",
      "Partly to mostly cloudy. Low 42F. Winds light and variable.\n"
     ]
    }
   ],
   "source": [
    "# Start writing code here...\n",
    "!pip install bs4\n",
    "import requests\n",
    "from bs4 import BeautifulSoup\n",
    "\n",
    "page =requests.get(\"https://weather.com/weather/tenday/l/San+Francisco+CA?canonicalCityId=dfdaba8cbe3a4d12a8796e1f7b1ccc7174b4b0a2d5ddb1c8566ae9f154fa638c\")\n",
    "# Print the status code of the response\n",
    "soup =BeautifulSoup(page.content, 'html.parser')\n",
    "\n",
    "html = list(soup.children)[1]\n",
    "#print(html.prettify())\n",
    "\n",
    "body = list(html.children)[1]\n",
    "\n",
    "today_weather = body.find('div',class_='DaypartDetails--Content--XQooU DaypartDetails--contentGrid--3cYKg')\n",
    "\n",
    "#Day and Time\n",
    "day_and_time = today_weather('span',class_='DailyContent--daypartDate--3MM0J')[0]\n",
    "\n",
    "parsed_day_and_time= day_and_time.text\n",
    "day = parsed_day_and_time.split()[0]\n",
    "date = parsed_day_and_time.split()[1]\n",
    "print(day)\n",
    "print(date)\n",
    "\n",
    "#Temperature high and low\n",
    "temp = today_weather('span', class_= 'DailyContent--temp--_8DL5')\n",
    "\n",
    "high_temp = temp[0].text\n",
    "h = high_temp.replace('°', '')\n",
    "h_celsius = (int(h) - 32) * 5 // 9\n",
    "print(f\"High temperature in Celsius: {h_celsius}\")\n",
    "low_temp = temp[1].text\n",
    "l = low_temp.replace('°', '')\n",
    "l_celsius = (int(l) - 32) * 5 // 9\n",
    "print(f\"Low temperature in Celsius: {l_celsius}\")\n",
    "\n",
    "#Temperature summary\n",
    "temp_summary = today_weather('p', class_ = 'DailyContent--narrative--3AcXd')\n",
    "\n",
    "high_summary = temp_summary[0].text\n",
    "low_summary = temp_summary[1].text\n",
    "print(high_summary)\n",
    "print(low_summary)\n",
    "\n",
    "\n"
   ]
  },
  {
   "cell_type": "code",
   "execution_count": 2,
   "metadata": {
    "cell_id": "00001-e3e98414-3bb4-4c17-bf3d-4bdcace65949",
    "deepnote_cell_type": "code",
    "execution_millis": 1335,
    "execution_start": 1607518893083,
    "output_cleared": false,
    "source_hash": "2c55a26",
    "tags": []
   },
   "outputs": [
    {
     "name": "stdout",
     "output_type": "stream",
     "text": [
      "Requirement already satisfied: bs4 in /opt/venv/lib/python3.7/site-packages (0.0.1)\n",
      "Requirement already satisfied: beautifulsoup4 in /opt/venv/lib/python3.7/site-packages (from bs4) (4.9.3)\n",
      "Requirement already satisfied: soupsieve>1.2; python_version >= \"3.0\" in /opt/venv/lib/python3.7/site-packages (from beautifulsoup4->bs4) (2.0.1)\n",
      "\u001b[33mWARNING: You are using pip version 20.2.4; however, version 20.3.1 is available.\n",
      "You should consider upgrading via the '/opt/venv/bin/python -m pip install --upgrade pip' command.\u001b[0m\n"
     ]
    }
   ],
   "source": [
    "!pip install bs4\n"
   ]
  }
 ],
 "metadata": {
  "deepnote_execution_queue": [],
  "deepnote_notebook_id": "7334ab0a-9910-49c2-b6d5-ad72ddd7e600",
  "kernelspec": {
   "display_name": "Python 3",
   "language": "python",
   "name": "python3"
  },
  "language_info": {
   "codemirror_mode": {
    "name": "ipython",
    "version": 3
   },
   "file_extension": ".py",
   "mimetype": "text/x-python",
   "name": "python",
   "nbconvert_exporter": "python",
   "pygments_lexer": "ipython3",
   "version": "3.8.5"
  }
 },
 "nbformat": 4,
 "nbformat_minor": 2
}
